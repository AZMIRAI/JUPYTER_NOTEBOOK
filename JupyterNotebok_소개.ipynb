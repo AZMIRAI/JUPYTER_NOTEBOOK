{
 "cells": [
  {
   "cell_type": "markdown",
   "id": "08293080",
   "metadata": {},
   "source": [
    "# Jupyter Notebook 紹介\n",
    "## Code cell 과 MarkdownCell\n",
    "\n",
    "### Code cell\n",
    "\n",
    "**진하게 나타내고**, *기울여 나타내고*\n",
    "\n",
    "### Markdown cell\n",
    "\n",
    "[영진전문대학교 컴퓨터정보계열](http://computer.yju.ac.kr)\n",
    "\n",
    "\n",
    "| 이름 | 학번 | 성별 |\n",
    "| ---- | ---- | ---- |\n",
    "| 홍길동 | 201234 | 남 |\n",
    "| 일지매 | 201235 | 여 |\n",
    "\n",
    "![컴퓨터정보계열](https://computer.yju.ac.kr/html/img/sub/intro_img.jpg)\n",
    "\n",
    "| 이름 | 학번 | 성별 |\n",
    "| ---- | ---- | ---- |\n",
    "|　坂井泉水　|　昭和４２年２月６日　| 女　|\n",
    "|　日向徹 |　年齢不明　|　男　|"
   ]
  },
  {
   "cell_type": "code",
   "execution_count": 12,
   "id": "b72ca88a",
   "metadata": {
    "scrolled": true
   },
   "outputs": [
    {
     "name": "stdout",
     "output_type": "stream",
     "text": [
      "Hello World!\n"
     ]
    }
   ],
   "source": [
    "print('Hello World!');"
   ]
  },
  {
   "cell_type": "code",
   "execution_count": 13,
   "id": "abfb6150",
   "metadata": {},
   "outputs": [],
   "source": [
    "import time\n",
    "time.sleep(3);"
   ]
  },
  {
   "cell_type": "code",
   "execution_count": 14,
   "id": "7fb92b85",
   "metadata": {},
   "outputs": [
    {
     "data": {
      "text/plain": [
       "'Hello! daeyoung'"
      ]
     },
     "execution_count": 14,
     "metadata": {},
     "output_type": "execute_result"
    }
   ],
   "source": [
    "def say_hello(receipent):\n",
    "    return 'Hello! {}'.format(receipent)\n",
    "say_hello('daeyoung')"
   ]
  }
 ],
 "metadata": {
  "kernelspec": {
   "display_name": "Python 3",
   "language": "python",
   "name": "python3"
  },
  "language_info": {
   "codemirror_mode": {
    "name": "ipython",
    "version": 3
   },
   "file_extension": ".py",
   "mimetype": "text/x-python",
   "name": "python",
   "nbconvert_exporter": "python",
   "pygments_lexer": "ipython3",
   "version": "3.8.8"
  }
 },
 "nbformat": 4,
 "nbformat_minor": 5
}
